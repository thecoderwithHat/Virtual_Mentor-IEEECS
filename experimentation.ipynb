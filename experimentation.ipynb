{
 "cells": [
  {
   "cell_type": "code",
   "execution_count": 4,
   "metadata": {},
   "outputs": [
    {
     "name": "stdout",
     "output_type": "stream",
     "text": [
      "Note: you may need to restart the kernel to use updated packages.\n"
     ]
    }
   ],
   "source": [
    "%pip install -qU pypdf\n",
    "file_path = (\n",
    "    \"Data/DSE2202 Computer Network Course Handout Jan-June 25.pdf\"\n",
    ")"
   ]
  },
  {
   "cell_type": "code",
   "execution_count": 8,
   "metadata": {},
   "outputs": [],
   "source": [
    "# %pip install langchain-community\n",
    "from langchain_community.document_loaders import PyPDFLoader\n",
    "\n",
    "loader = PyPDFLoader(file_path)\n",
    "pages = []\n",
    "async for page in loader.alazy_load():\n",
    "    pages.append(page)\n",
    "    \n",
    "    "
   ]
  },
  {
   "cell_type": "code",
   "execution_count": 9,
   "metadata": {},
   "outputs": [
    {
     "name": "stdout",
     "output_type": "stream",
     "text": [
      "{'source': 'Data/DSE2202 Computer Network Course Handout Jan-June 25.pdf', 'page': 0, 'page_label': '1'}\n",
      "\n",
      " \n",
      " \n",
      "MANIPAL UNIVERSITY JAIPUR \n",
      "Department of Data Science and Engineering \n",
      "Course Hand-out \n",
      "A. Basic Details: \n",
      "Programme Name: CSE-DS \n",
      "Course Name: Computer Networks \n",
      "Course Code: DSE2202 \n",
      "LTPC (Lecture Tutorial Practical Credits): 4 \n",
      "Session: Jan-June 2025 \n",
      "Class: DS, IV Sem \n",
      "Course Coordinator: Dr. Shitanshu Jain \n",
      "Course Instructor(s): \n",
      "Dr. Pooja Gupta, Dr. Neha V Sharma, \n",
      "Dr. Ginika Mahajan, Dr. Malvinder S \n",
      "Bali, Dr. Srikanta Pradhan \n",
      "Additional Practitioner(s) – if any \n",
      "(Industry Fellow/ Visiting Faculty/ Adjunct Faculty, \n",
      "etc.): \n",
      "Nil \n",
      " \n",
      "B. Introduction: The course on Computer Networks  provides a comprehensive \n",
      "understanding of the fundamental concepts, principles, and practices involved in the \n",
      "design, implementation, and management of computer networks. It explores how devices \n",
      "communicate with each other, the architecture of networks, and the protocols that govern \n",
      "data transmission. This course is designed to provide both theoretical knowledge and \n",
      "practical skills, enabling students to develop, analyze, and troubleshoot computer \n",
      "networks effectively. \n",
      " \n",
      "The main objective of this course is to familiarize students with modern computer networks, \n",
      "focusing on the TCP/IP model and its layered structure, which serves as the foundation for \n",
      "today's networking systems. \n",
      " \n",
      " \n",
      " \n",
      " \n",
      " \n",
      " \n",
      "\n"
     ]
    }
   ],
   "source": [
    "print(f\"{pages[0].metadata}\\n\")\n",
    "print(pages[0].page_content)"
   ]
  },
  {
   "cell_type": "code",
   "execution_count": null,
   "metadata": {},
   "outputs": [],
   "source": []
  }
 ],
 "metadata": {
  "kernelspec": {
   "display_name": "ml",
   "language": "python",
   "name": "python3"
  },
  "language_info": {
   "codemirror_mode": {
    "name": "ipython",
    "version": 3
   },
   "file_extension": ".py",
   "mimetype": "text/x-python",
   "name": "python",
   "nbconvert_exporter": "python",
   "pygments_lexer": "ipython3",
   "version": "3.10.16"
  }
 },
 "nbformat": 4,
 "nbformat_minor": 2
}
